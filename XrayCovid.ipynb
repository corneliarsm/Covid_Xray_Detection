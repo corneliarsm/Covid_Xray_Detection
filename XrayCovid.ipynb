{
  "nbformat": 4,
  "nbformat_minor": 0,
  "metadata": {
    "colab": {
      "name": "XrayCovid.ipynb",
      "provenance": [],
      "authorship_tag": "ABX9TyOMzfTgTib3QDizIvj1Eo40",
      "include_colab_link": true
    },
    "kernelspec": {
      "name": "python3",
      "display_name": "Python 3"
    }
  },
  "cells": [
    {
      "cell_type": "markdown",
      "metadata": {
        "id": "view-in-github",
        "colab_type": "text"
      },
      "source": [
        "<a href=\"https://colab.research.google.com/github/corneliarsm/Covid_Xray_Detection/blob/master/XrayCovid.ipynb\" target=\"_parent\"><img src=\"https://colab.research.google.com/assets/colab-badge.svg\" alt=\"Open In Colab\"/></a>"
      ]
    },
    {
      "cell_type": "code",
      "metadata": {
        "id": "3pMUS9wrSD8I",
        "colab_type": "code",
        "colab": {}
      },
      "source": [
        "!wget --no-check-certificate \\\n",
        "  https://www.kaggle.com/darshan1504/covid19-detection-xray-dataset/download \\\n",
        "  -O /tmp/covid19-detection-xray-dataset.zip"
      ],
      "execution_count": 0,
      "outputs": []
    }
  ]
}